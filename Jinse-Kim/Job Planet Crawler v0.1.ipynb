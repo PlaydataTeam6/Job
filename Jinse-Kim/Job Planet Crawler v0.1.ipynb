{
 "metadata": {
  "language_info": {
   "codemirror_mode": {
    "name": "ipython",
    "version": 3
   },
   "file_extension": ".py",
   "mimetype": "text/x-python",
   "name": "python",
   "nbconvert_exporter": "python",
   "pygments_lexer": "ipython3",
   "version": "3.7.6-final"
  },
  "orig_nbformat": 2,
  "kernelspec": {
   "name": "Python 3.7.6 64-bit ('base': conda)",
   "display_name": "Python 3.7.6 64-bit ('base': conda)",
   "metadata": {
    "interpreter": {
     "hash": "0d9aa61a2a8799473610c923f2f670527a97741b56271999415b34cbfaac5f12"
    }
   }
  }
 },
 "nbformat": 4,
 "nbformat_minor": 2,
 "cells": [
  {
   "cell_type": "code",
   "execution_count": 1,
   "metadata": {},
   "outputs": [],
   "source": [
    "import time\n",
    "import re\n",
    "import requests\n",
    "import numpy as np\n",
    "import pandas as pd\n",
    "from datetime import datetime\n",
    "from selenium import webdriver\n",
    "from selenium.webdriver.common.by import By # 언제까지 브라우저 접속을 기다려줄 지 결정\n",
    "from selenium.webdriver.support.ui import WebDriverWait # By 모듈과 같이 자주 쓰인다.\n",
    "from selenium.webdriver.support import expected_conditions as EC # 어떤 상태까지 기다리겠다(페이지 클릭이나 커서 이동)\n",
    "from selenium.webdriver.chrome.options import Options\n",
    "from bs4 import BeautifulSoup\n",
    "\n",
    "from tqdm import tqdm"
   ]
  },
  {
   "source": [
    "# 찾을 정보\n",
    "기업이름,  마감날짜, 필요조건, 우대조건,  연봉정보, 주요 업무, 신입경력, "
   ],
   "cell_type": "markdown",
   "metadata": {}
  },
  {
   "cell_type": "code",
   "execution_count": 6,
   "metadata": {},
   "outputs": [],
   "source": [
    "def get_contents_dict(soup):\n",
    "    \n",
    "    # initialization\n",
    "    title = np.nan\n",
    "    companyname = np.nan\n",
    "    duedate = np.nan\n",
    "    job = np.nan\n",
    "    salary = np.nan\n",
    "    exp = np.nan\n",
    "    maintask = np.nan\n",
    "    requirement = np.nan\n",
    "    prefered = np.nan\n",
    "    location = np.nan\n",
    "    content_list = []\n",
    "\n",
    "    # 공고 제목\n",
    "    title = soup.find_all('h1', class_ = 'ttl')[0].text.strip()\n",
    "    # print(title)\n",
    "\n",
    "    # 마감 날짜\n",
    "    try: duedate = soup.find_all('li', class_ = 'calendar')[0].find_all('span',class_ = 'day_text')[-1].text.strip()\n",
    "    except: duedate = soup.find_all('li', class_ = 'calendar')[0].find_all('span')[-1].text.strip()\n",
    "    print(duedate)\n",
    "\n",
    "    # 기업 이름\n",
    "    companyname = soup.find_all('span', class_ = 'company_name')[0].text.strip()\n",
    "    # print(companyname)\n",
    "\n",
    "    # 직무\n",
    "    job = soup.find('li', class_ = 'briefcase').find('span',class_ = 'cont').text.strip()\n",
    "    # print(briefcase)\n",
    "\n",
    "    # 급여\n",
    "    salary = soup.find('li', class_ = 'money').find('span',class_ = 'cont').text.strip()\n",
    "    # print(salary)\n",
    "\n",
    "    # 신입/경력\n",
    "    exp = soup.find('li', class_ = 'experience').find('span',class_ = 'cont').text.strip()\n",
    "    # print(exp)\n",
    "\n",
    "    # 주요 업무, 자격요건, 우대사항\n",
    "    paragraph_all = soup.find_all('div', class_ = 'paragraph')\n",
    "    for i in paragraph_all:\n",
    "        if '주요업무' in i.text.strip():\n",
    "            maintask = i.find('div', class_ = 'text').text.strip()\n",
    "            # print('주요업무: ', maintask)\n",
    "\n",
    "        elif '자격요건' in i.text.strip():\n",
    "            requirement = i.find('div', class_ = 'text').text.strip()\n",
    "            # print('자격요건:', requirement)\n",
    "\n",
    "        elif '우대사항' in i.text.strip():\n",
    "            prefered = i.find('div', class_ = 'text').text.strip()\n",
    "            # print('우대사항:', prefered)\n",
    "            \n",
    "    # 위치\n",
    "    for i in soup.find_all('div', class_ = 'line_text_list'):\n",
    "        if '회사위치' in i.text.strip():\n",
    "            location = i.find('p').text.strip()\n",
    "            # print('위치:', location)\n",
    "\n",
    "    return {'companyname': companyname, 'duedate': duedate, 'job': job, 'salary': salary, 'exp': exp, 'maintask': maintask, 'requirement': requirement, 'prefered': prefered, 'location': location}\n"
   ]
  },
  {
   "source": [
    "# 스크래핑 시작"
   ],
   "cell_type": "markdown",
   "metadata": {}
  },
  {
   "cell_type": "code",
   "execution_count": 9,
   "metadata": {
    "tags": []
   },
   "outputs": [
    {
     "output_type": "stream",
     "name": "stdout",
     "text": "===================PAGE1==================\n\n  0%|          | 0/10 [00:00<?, ?it/s]\u001b[A\n 10%|█         | 1/10 [00:01<00:11,  1.32s/it]\u001b[A2020. 11. 13\n\n 20%|██        | 2/10 [00:02<00:10,  1.27s/it]\u001b[A2020. 10. 09\n\n 30%|███       | 3/10 [00:03<00:08,  1.24s/it]\u001b[A2020. 09. 30\n\n 40%|████      | 4/10 [00:04<00:07,  1.23s/it]\u001b[A2020. 09. 30\n\n 50%|█████     | 5/10 [00:06<00:06,  1.21s/it]\u001b[A2020. 12. 31\n\n 60%|██████    | 6/10 [00:07<00:04,  1.20s/it]\u001b[A2020. 09. 30\n\n 70%|███████   | 7/10 [00:08<00:03,  1.19s/it]\u001b[A2020. 12. 31\n\n 80%|████████  | 8/10 [00:09<00:02,  1.17s/it]\u001b[A2020. 10. 24\n\n 90%|█████████ | 9/10 [00:10<00:01,  1.19s/it]\u001b[A2020. 11. 21\n\n100%|██████████| 10/10 [00:11<00:00,  1.19s/it]2021. 03. 04\n===================PAGE2==================\n\n\n  0%|          | 0/10 [00:00<?, ?it/s]\u001b[A\n 10%|█         | 1/10 [00:01<00:12,  1.43s/it]\u001b[A상시채용\n\n 20%|██        | 2/10 [00:02<00:10,  1.36s/it]\u001b[A2020. 10. 05\n\n 30%|███       | 3/10 [00:03<00:09,  1.31s/it]\u001b[A2020. 10. 04\n\n 40%|████      | 4/10 [00:04<00:07,  1.26s/it]\u001b[A2020. 10. 05\n\n 50%|█████     | 5/10 [00:06<00:06,  1.24s/it]\u001b[A2020. 09. 30\n\n 60%|██████    | 6/10 [00:07<00:04,  1.22s/it]\u001b[A2020. 10. 07\n\n 70%|███████   | 7/10 [00:08<00:03,  1.21s/it]\u001b[A2020. 12. 31\n\n 80%|████████  | 8/10 [00:09<00:02,  1.19s/it]\u001b[A2020. 11. 30\n\n 90%|█████████ | 9/10 [00:11<00:01,  1.24s/it]\u001b[A2020. 11. 20\n"
    },
    {
     "output_type": "error",
     "ename": "KeyboardInterrupt",
     "evalue": "",
     "traceback": [
      "\u001b[1;31m---------------------------------------------------------------------------\u001b[0m",
      "\u001b[1;31mKeyboardInterrupt\u001b[0m                         Traceback (most recent call last)",
      "\u001b[1;32m<ipython-input-9-8039202a8150>\u001b[0m in \u001b[0;36m<module>\u001b[1;34m\u001b[0m\n\u001b[0;32m     20\u001b[0m         \u001b[1;31m# Click each job decscription\u001b[0m\u001b[1;33m\u001b[0m\u001b[1;33m\u001b[0m\u001b[1;33m\u001b[0m\u001b[0m\n\u001b[0;32m     21\u001b[0m         \u001b[0mdriver\u001b[0m\u001b[1;33m.\u001b[0m\u001b[0mfind_element_by_xpath\u001b[0m\u001b[1;33m(\u001b[0m\u001b[1;34m'//*[@id=\"job_search_app\"]/div/div[2]/div[1]/div[2]/ul/li[{}]/a'\u001b[0m\u001b[1;33m.\u001b[0m\u001b[0mformat\u001b[0m\u001b[1;33m(\u001b[0m\u001b[0mr\u001b[0m\u001b[1;33m)\u001b[0m\u001b[1;33m)\u001b[0m\u001b[1;33m.\u001b[0m\u001b[0mclick\u001b[0m\u001b[1;33m(\u001b[0m\u001b[1;33m)\u001b[0m\u001b[1;33m\u001b[0m\u001b[1;33m\u001b[0m\u001b[0m\n\u001b[1;32m---> 22\u001b[1;33m         \u001b[0mtime\u001b[0m\u001b[1;33m.\u001b[0m\u001b[0msleep\u001b[0m\u001b[1;33m(\u001b[0m\u001b[1;36m1\u001b[0m\u001b[1;33m)\u001b[0m\u001b[1;33m\u001b[0m\u001b[1;33m\u001b[0m\u001b[0m\n\u001b[0m\u001b[0;32m     23\u001b[0m \u001b[1;33m\u001b[0m\u001b[0m\n\u001b[0;32m     24\u001b[0m         \u001b[1;31m# Refresh source\u001b[0m\u001b[1;33m\u001b[0m\u001b[1;33m\u001b[0m\u001b[1;33m\u001b[0m\u001b[0m\n",
      "\u001b[1;31mKeyboardInterrupt\u001b[0m: "
     ]
    }
   ],
   "source": [
    "df = pd.DataFrame()\n",
    "\n",
    "options = Options()\n",
    "# options.add_argument(\"user-agent: Mozilla/5.0 (Macintosh; Intel Mac OS X 10_15_5) AppleWebKit/537.36 (KHTML, like Gecko) Chrome/85.0.4183.102 Safari/537.36\")\n",
    "# chrome_options.add_argument(\"--headless\") # 브라우저가 화면에 뜨지 않고 내부적으로 실행\n",
    "driver = webdriver.Chrome(\"./chromedriver_85.exe\", options = options)\n",
    "\n",
    "# 잡플래닛 URL 접속 및 페이지 넘김\n",
    "for i in range(1, 100):\n",
    "    print('===================PAGE{}=================='.format(i))\n",
    "    driver.get('https://www.jobplanet.co.kr/job/search?q=%EB%8D%B0%EC%9D%B4%ED%84%B0%EB%B6%84%EC%84%9D&page={}'.format(i))\n",
    "\n",
    "    # 크롬 브라우저 내부 대기\n",
    "    driver.implicitly_wait(5)\n",
    "\n",
    "    #하나의 페이지 안에서 하나의 공고 클릭\n",
    "    for r in tqdm(range(1,11)):\n",
    "        # print('========{}번째 공고========'.format(r))\n",
    "\n",
    "        # Click each job decscription\n",
    "        driver.find_element_by_xpath('//*[@id=\"job_search_app\"]/div/div[2]/div[1]/div[2]/ul/li[{}]/a'.format(r)).click()\n",
    "        time.sleep(1)\n",
    "\n",
    "        # Refresh source\n",
    "        bs = BeautifulSoup(driver.page_source, 'html.parser')\n",
    "\n",
    "        # Get contents\n",
    "        dict_ = get_contents_dict(bs)\n",
    "        df = df.append(dict_, ignore_index=True)"
   ]
  },
  {
   "cell_type": "code",
   "execution_count": 8,
   "metadata": {},
   "outputs": [
    {
     "output_type": "execute_result",
     "data": {
      "text/plain": "     companyname       duedate        exp                               job  \\\n0        (주)코드브릭  2020. 11. 13      3년 이상                             데이터분석   \n1      (주)버킷플레이스  2020. 10. 09      3년 이상                      마케팅, 시장조사/분석   \n2   (주)스마일게이트홀딩스  2020. 09. 30      8년 이상           데이터분석, 경영기획/전략, 시장조사/분석   \n3       라인프렌즈(주)  2020. 09. 30       경력무관                             데이터분석   \n4         스포카(주)  2020. 12. 31      3년 이상                             데이터분석   \n5     (주)비아이매트릭스  2020. 09. 30      7년 이상               데이터분석, 프로젝트매니저, 컨설팅   \n6   (주)카카오엔터프라이즈  2020. 12. 31       경력무관             데이터분석, 소프트웨어엔지니어, 웹개발   \n7    (주)커스토머인사이트  2020. 10. 24   신입, 경력무관                             데이터분석   \n8       이씨이십일(주)  2020. 11. 21   신입, 경력무관                             데이터분석   \n9     (주)피플펀드컴퍼니  2021. 03. 04   신입, 경력무관                             데이터분석   \n10        (주)쿡앱스          상시채용      2년 이상                             데이터분석   \n11      현대자동차(주)  2020. 10. 04      3년 이상                             데이터분석   \n12       (주)디다이브  2020. 10. 05       경력무관                             데이터분석   \n13     (주)버킷플레이스  2020. 10. 07      3년 이상                             데이터분석   \n14           펜타클  2020. 09. 30      1년 이상                             데이터분석   \n15      리서치애드(주)  2020. 10. 05   신입, 경력무관                             데이터분석   \n16       엔카닷컴(주)  2020. 10. 04      2년 이상  웹개발, DBA(Database Admin.), 데이터분석   \n17      (주)매스프레소  2020. 11. 30      1년 이상                             데이터분석   \n18        버즈빌(주)  2021. 01. 29  신입, 1년 이상                  데이터분석, 소프트웨어엔지니어   \n19     신한금융투자(주)  2020. 12. 31      1년 이상                             데이터분석   \n20     (주)지에스리테일  2020. 11. 11       경력무관                             데이터분석   \n21       에이스톰(유)  2020. 11. 20   신입, 경력무관                             데이터분석   \n22      (주)매스프레소  2020. 11. 30      1년 이상                             데이터분석   \n23    잡플래닛 매칭서비스  2020. 10. 07      4년 이상                             데이터분석   \n24       (주)플래티어          상시채용   신입, 경력무관                             데이터분석   \n25    (주)마켓디자이너스          상시채용      5년 이상             데이터분석, 시장조사/분석, 전략마케팅   \n26    (주)한국신용데이터  2020. 09. 29  신입, 3년 이상                             데이터분석   \n\n                                             location  \\\n0                      서울 강남구 역삼로 169 팁스타운 S2 명우빌딩 7층   \n1                         서울 서초구 서초대로 398, 플래티넘타워 19층   \n2                             경기 성남시 분당구 판교역로 220, 5층   \n3                         04405서울시 용산구 이태원로 200 라인프렌즈   \n4                  서울 강남구 테헤란로 127 하나금융센터 강남사옥 4층 스포카   \n5                   서울 강남구 선릉로 433, 신관 17층 (역삼동,세방빌딩)   \n6                             경기 성남시 분당구 판교역로 235, 3층   \n7                           서울 송파구 송파대로 167 테라타워 A720   \n8               서울특별시 강남구 삼성동 무역센터 트레이드타워 5F, 8F, 11F   \n9                        서울특별시 강남구 테헤란로 518 12층 (대치동)   \n10                 경기도 성남시 분당구 대왕판교로 660 유스페이스 1B동 8층   \n11                                      서울 서초구 헌릉로 12   \n12                         서울 강남구 테헤란로20길 16, 금정빌딩 7층   \n13                        서울 서초구 서초대로 398, 플래티넘타워 19층   \n14                   서울 강남구 역삼동 735-22 GALA빌딩 8,9,13층   \n15                  서울 강남구 학동로34길 16, 2층 (논현동,티플러스빌딩)   \n16                   서울특별시 중구 통일로2길 16 (AIA타워) 18~19층   \n17                               서울시 강남구 테헤란로 132 12층   \n18               서울특별시 송파구 석촌호수로 272 대림빌딩 2, 3, 4, 5층   \n19                    서울 영등포구 여의대로 70 (여의도동,신한금융투자타워)   \n20                          서울 강남구 논현로 508 (역삼동,GS타워)   \n21                                                NaN   \n22                               서울시 강남구 테헤란로 132 12층   \n23  서울특별시 강남구 테헤란로 415 스파크플러스 3층 307호 (L7 Hotel 강남타워)   \n24           서울특별시 송파구 법원로9길 26 D동 6층(문정동, 에이치비지니스파크)   \n25                          서울 강남구 테헤란로20길 9 동궁빌딩 13층   \n26                       서울특별시 강남구 영동대로 607 랜드마크빌딩 6층   \n\n                                             maintask  \\\n0   - 데이터 기반으로 한 가설 설정과 효율적인 실험 설계 및 실행 (A/B Test ...   \n1   - 마케팅 주요 지표를 정의/관리하며, 운영에 도움을 줄 수 있는 데이터를 리포팅 ...   \n2   - 그룹사 전 게임 대상의 데이터 분석 및 인사이트 도출\\n- 그룹사 게임 지표 분...   \n3   - LINE Financial의 다양한 금융 데이터 분석\\n- LINE 데이터를 포...   \n4   • 데이터 분석과 인사이트 제공: 스포카는 지난 9년간 쌓은 2500만 고객의 포인...   \n5                 - 당사 데이터통합분석 솔루션  i-STREAM 연구 개발 업무   \n6   다음과 같은 업무를 하며 입사 후 업무 전환도 가능하니 1개 이상의 업무에 적합한 ...   \n7      - 정형 데이터 분석, 비정형 데이터 분석\\n- 빅 데이터 솔루션 Hadoop 구현   \n8                      - 해외시장정보수집\\n- 트렌드 분석\\n- 보고서 작성   \n9   피플펀드의 데이터 분석가는 데이터를 가공하여 비즈니스 활용 가능한 모델을 개발하고,...   \n10  - 게임 로그를 기반으로 한 데이터 분석 및 지표설계\\n- 내부 지표 분석을 통한 ...   \n11  · 모빌리티 관련 기술 및 서비스 개발\\n- 현대자동차에서는 자동차를 넘어 우리 일...   \n12  - 광고 퍼포먼스 최적화를 위한 지표 분석 및 발굴\\n- 광고 클릭스트림 분석, A...   \n13  - 데이터 분석을 위한 데이터 스키마(데이터 레이크, 데이터 마트) 설계 및 개발\\...   \n14  - 클라우드 환경에서 데이터 마케팅 플랫폼 구축 \\n- 클라우드 환경에서 데이터 분...   \n15                          - 실시간 수집된 광고 분류 및 모니터링 업무   \n16  - 클라우드 환경에서의 데이터 분석/모델링 환경 구축 및 운영\\n- 데이터 레이크 ...   \n17  - 서비스 지표 상승 및 문제 해결을 위한 데이터 기반의 인사이트 제공\\n- 데이터...   \n18  버즈빌은 글로벌 애드 테크(Ad-tech) 기업입니다. 전 세계의 복잡한 디지털 광...   \n19                      - 디지털 컨텐츠 기획/개발/운영\\n- 데이터 모델러   \n20                          · 빅데이터 분석을 통한 이슈, 인사이트 발굴   \n21              - 게임의 상태를 숫자로 표현하는 일\\n- 게임 통계 설계 및 운영   \n22  - 빠르게 늘어나고 있는 매스프레소의 데이터 규모에 맞추어 확장가능한 데이터 인프라...   \n23  •신용평가 모형개발: 신용평가모형 등 리스크관리를 위한 모형개발\\n•운영중인 모형 ...   \n24  - ML 서비스를 위한 데이터 파이프라인 시스템 설계 개발 및 운영 관리\\n- 대용...   \n25  • 위매치 부문 비즈니스 데이터 분석 업무 \\n• 비즈니스 데이터 분석 시뮬레이션 ...   \n26  - 서비스 제공을 위한 다양한 금융 데이터 수집 백엔드/인프라 개발 및 운영\\n- ...   \n\n                                             prefered  \\\n0   - Ecommerce Industry에 대한 이해가 높은 분\\n- Lean Star...   \n1   - 커머스 비즈니스/스타트업 유경험자\\n- 디지털 광고 매체 및 3rd party ...   \n2                         - 게임/IT 업계 내 유관 업무경험이 있으신 분   \n3   - 국가 유공자 및 장애인 등 취업보호대상자는 관계법령에 따라 우대합니다.\\n- S...   \n4   • 1가지 이상의 프로그래밍 언어를 구사하시는 분: Python, R 등의 프로그래...   \n5   - 텐서플로우, AI, Machine learning 우대\\n- 데이터 분석, 통계...   \n6   - 4년 이상의 분산 시스템 경험\\n- kubernetes, docker 를 이용한...   \n7   - Open Source Hadoop Data Platform 경험자\\n- Micr...   \n8   - 보훈 및 장애 대상자는 관계법령에 의거하여 우대합니다.\\n- 어문계열 전공자 및...   \n9   • 석사학위 이상 보유자\\n• 빅데이터 기반 모델링 경험 보유자\\n• 머신러닝, 딥...   \n10  - R,Python,Scala,SQL등의 툴을 이용한 데이터 분석 업무경험이 있으신...   \n11  - 실서비스에서 데이터 분석을 통해 사용자 문제를 해결해본 경험 보유자\\n- Ten...   \n12  - 디지털 퍼포먼스 마케팅 분야 경험\\n- 다층적 비정형 데이터를 정제하고 분석을 ...   \n13  - 데이터 레이크에 대한 전반적인 이해\\n- 데이터 마트 설계 및 개발 경험\\n- ...   \n14  - Google BigQuery, Dataflow(Beam) 사용 경험 \\n- Da...   \n15                                                NaN   \n16  - Datastage 개발 유경험자/리눅스 환경 유경험자\\n-  클라우드(AWS, ...   \n17  - Growth팀(Growth Hacking) 또는 Lean Startup에 대한 ...   \n18                                                NaN   \n19  - 머신러닝/AI 알고리즘 이해 및 활용능력 보유\\n- 빅데이터 분석 경험\\n- 클...   \n20                                                NaN   \n21                                                NaN   \n22  - 다양한 상황에서 최적의 솔루션을 찾을 수 있는 문제해결능력 및 원활한 커뮤니케이...   \n23                                                NaN   \n24  - 데이터를 활용한 End To End 프로젝트를 수행한 경험\\n- Hadoop, ...   \n25  • 온라인 마케팅 관련 데이터 분석 경험하신 분, Pricing 데이터 분석 경험하...   \n26  - 중소사업자 금융거래 데이터 수집 및 전처리 과정 개발 및 운영\\n- 외부 데이터...   \n\n                                          requirement    salary  \n0   - GA, Amplitude 등의 트래킹 및 데이터 분석 관련 도구들을 사용하거나 ...  회사내규에 따름  \n1   - 데이터 분석 경력 최소 3년 이상의 관련 업무 경력\\n- 원하는 데이터를 얻기 ...  회사내규에 따름  \n2   - 경영정보 관리 및 분석 업무경험 8년 이상 (온라인, 모바일, 콘솔 게임/서비스...  회사내규에 따름  \n3   - 데이터 분석 프로그램(SQL, Python, SAS 등)을 활용한 데이터 분석 ...  회사내규에 따름  \n4   • 3년 이상의 데이터 분석 경력을 가지신 분: 데이터 분석가로서 3년 이상의 경력...  회사내규에 따름  \n5   - 4년제 대졸 이상\\n- 개발 경력 7년 이상 경력자\\n- python, Pand...   면접 후 결정  \n6   - 전산/컴퓨터공학 전공\\n- 탄탄한 관련 기본 지식 (운영체제, 알고리즘, 자료구...  회사내규에 따름  \n7   - 경력 : 신입 또는 경력 2 년 이상\\n- 대학 졸업 또는 석사 졸업 이상\\n-...  회사내규에 따름  \n8                                             - 신입/경력  회사내규에 따름  \n9   • 신입 혹은 관련분야 경력 2~3년 미만\\n• 상경계열 / 통계 / 수학 / 산업...  회사내규에 따름  \n10  - 게임 데이터 분석 경력 2년 이상\\n- 통계에 대한 기반 지식을 가지고 계신 분...  회사내규에 따름  \n11  - 학사 이상의 학위 취득자\\n- 데이터마이닝 또는 머신러닝을 활용한 데이터 분석 ...  회사내규에 따름  \n12  - Data Mining 수행 및 분석 리포트 작성 경험\\n- OLAP및 BI를 활...  회사내규에 따름  \n13  - 3년 이상의 유관 경력\\n- 데이터 엔지니어링에 대한 기본적인 이해\\n- 스칼라...  회사내규에 따름  \n14  - 1년 이상의 데이터 관련 경력 \\n- Java, Python 등 데이터 관련 개...  회사내규에 따름  \n15                                            - 신입/경력  회사내규에 따름  \n16  - 클라우드 분석 플랫폼 환경에 대한 이해와 경험\\n- SQL을 사용한 데이터 핸들...  회사내규에 따름  \n17  - 단순한 아이디어 차원이 아닌 실질적인 action을 위한 구체적인 인사이트를 제...  회사내규에 따름  \n18  Who You Are\\n1. 탄탄한 기본기: 버즈빌은 성장을 매우 중요하게 여기며,...   면접 후 결정  \n19  - 정규직/계약직\\n- 국내/해외 4년제 대학교 이상 졸업자(석사/박사 우대)\\n-...  회사내규에 따름  \n20  · 학사\\n  - 국내/해외대학 학사 학위 소지자 중 관련 경력 보유자\\n· 석사\\...  회사내규에 따름  \n21  - 숫자를 좋아하는 사람\\n- 게임을 좋아하는 사람\\n- 대한민국 하루 게임 동접이...  회사내규에 따름  \n22  - 대용량 데이터 처리 시스템 구축과 관련된 경력 1년 이상\\n- 파이프라인 및 분...  회사내규에 따름  \n23  - 대졸\\n- 관련 업무 경험 최소 3년 이상\\n- 금융관련 데이터 분석 및 모델링...   면접 후 결정  \n24  - Python, Scala 등 파이프라인 구축 업무를 수행할 수 있는 하나 이상의...  회사내규에 따름  \n25  •  데이터 분석 업무 유경험자 (3년이상)\\n•  온라인 고객대상 기업의 데이터 ...   면접 후 결정  \n26  - Python 3+ 백엔드 개발 경력 3년차 이상\\n- 대용량 데이터 인프라 구축...  회사내규에 따름  ",
      "text/html": "<div>\n<style scoped>\n    .dataframe tbody tr th:only-of-type {\n        vertical-align: middle;\n    }\n\n    .dataframe tbody tr th {\n        vertical-align: top;\n    }\n\n    .dataframe thead th {\n        text-align: right;\n    }\n</style>\n<table border=\"1\" class=\"dataframe\">\n  <thead>\n    <tr style=\"text-align: right;\">\n      <th></th>\n      <th>companyname</th>\n      <th>duedate</th>\n      <th>exp</th>\n      <th>job</th>\n      <th>location</th>\n      <th>maintask</th>\n      <th>prefered</th>\n      <th>requirement</th>\n      <th>salary</th>\n    </tr>\n  </thead>\n  <tbody>\n    <tr>\n      <th>0</th>\n      <td>(주)코드브릭</td>\n      <td>2020. 11. 13</td>\n      <td>3년 이상</td>\n      <td>데이터분석</td>\n      <td>서울 강남구 역삼로 169 팁스타운 S2 명우빌딩 7층</td>\n      <td>- 데이터 기반으로 한 가설 설정과 효율적인 실험 설계 및 실행 (A/B Test ...</td>\n      <td>- Ecommerce Industry에 대한 이해가 높은 분\\n- Lean Star...</td>\n      <td>- GA, Amplitude 등의 트래킹 및 데이터 분석 관련 도구들을 사용하거나 ...</td>\n      <td>회사내규에 따름</td>\n    </tr>\n    <tr>\n      <th>1</th>\n      <td>(주)버킷플레이스</td>\n      <td>2020. 10. 09</td>\n      <td>3년 이상</td>\n      <td>마케팅, 시장조사/분석</td>\n      <td>서울 서초구 서초대로 398, 플래티넘타워 19층</td>\n      <td>- 마케팅 주요 지표를 정의/관리하며, 운영에 도움을 줄 수 있는 데이터를 리포팅 ...</td>\n      <td>- 커머스 비즈니스/스타트업 유경험자\\n- 디지털 광고 매체 및 3rd party ...</td>\n      <td>- 데이터 분석 경력 최소 3년 이상의 관련 업무 경력\\n- 원하는 데이터를 얻기 ...</td>\n      <td>회사내규에 따름</td>\n    </tr>\n    <tr>\n      <th>2</th>\n      <td>(주)스마일게이트홀딩스</td>\n      <td>2020. 09. 30</td>\n      <td>8년 이상</td>\n      <td>데이터분석, 경영기획/전략, 시장조사/분석</td>\n      <td>경기 성남시 분당구 판교역로 220, 5층</td>\n      <td>- 그룹사 전 게임 대상의 데이터 분석 및 인사이트 도출\\n- 그룹사 게임 지표 분...</td>\n      <td>- 게임/IT 업계 내 유관 업무경험이 있으신 분</td>\n      <td>- 경영정보 관리 및 분석 업무경험 8년 이상 (온라인, 모바일, 콘솔 게임/서비스...</td>\n      <td>회사내규에 따름</td>\n    </tr>\n    <tr>\n      <th>3</th>\n      <td>라인프렌즈(주)</td>\n      <td>2020. 09. 30</td>\n      <td>경력무관</td>\n      <td>데이터분석</td>\n      <td>04405서울시 용산구 이태원로 200 라인프렌즈</td>\n      <td>- LINE Financial의 다양한 금융 데이터 분석\\n- LINE 데이터를 포...</td>\n      <td>- 국가 유공자 및 장애인 등 취업보호대상자는 관계법령에 따라 우대합니다.\\n- S...</td>\n      <td>- 데이터 분석 프로그램(SQL, Python, SAS 등)을 활용한 데이터 분석 ...</td>\n      <td>회사내규에 따름</td>\n    </tr>\n    <tr>\n      <th>4</th>\n      <td>스포카(주)</td>\n      <td>2020. 12. 31</td>\n      <td>3년 이상</td>\n      <td>데이터분석</td>\n      <td>서울 강남구 테헤란로 127 하나금융센터 강남사옥 4층 스포카</td>\n      <td>• 데이터 분석과 인사이트 제공: 스포카는 지난 9년간 쌓은 2500만 고객의 포인...</td>\n      <td>• 1가지 이상의 프로그래밍 언어를 구사하시는 분: Python, R 등의 프로그래...</td>\n      <td>• 3년 이상의 데이터 분석 경력을 가지신 분: 데이터 분석가로서 3년 이상의 경력...</td>\n      <td>회사내규에 따름</td>\n    </tr>\n    <tr>\n      <th>5</th>\n      <td>(주)비아이매트릭스</td>\n      <td>2020. 09. 30</td>\n      <td>7년 이상</td>\n      <td>데이터분석, 프로젝트매니저, 컨설팅</td>\n      <td>서울 강남구 선릉로 433, 신관 17층 (역삼동,세방빌딩)</td>\n      <td>- 당사 데이터통합분석 솔루션  i-STREAM 연구 개발 업무</td>\n      <td>- 텐서플로우, AI, Machine learning 우대\\n- 데이터 분석, 통계...</td>\n      <td>- 4년제 대졸 이상\\n- 개발 경력 7년 이상 경력자\\n- python, Pand...</td>\n      <td>면접 후 결정</td>\n    </tr>\n    <tr>\n      <th>6</th>\n      <td>(주)카카오엔터프라이즈</td>\n      <td>2020. 12. 31</td>\n      <td>경력무관</td>\n      <td>데이터분석, 소프트웨어엔지니어, 웹개발</td>\n      <td>경기 성남시 분당구 판교역로 235, 3층</td>\n      <td>다음과 같은 업무를 하며 입사 후 업무 전환도 가능하니 1개 이상의 업무에 적합한 ...</td>\n      <td>- 4년 이상의 분산 시스템 경험\\n- kubernetes, docker 를 이용한...</td>\n      <td>- 전산/컴퓨터공학 전공\\n- 탄탄한 관련 기본 지식 (운영체제, 알고리즘, 자료구...</td>\n      <td>회사내규에 따름</td>\n    </tr>\n    <tr>\n      <th>7</th>\n      <td>(주)커스토머인사이트</td>\n      <td>2020. 10. 24</td>\n      <td>신입, 경력무관</td>\n      <td>데이터분석</td>\n      <td>서울 송파구 송파대로 167 테라타워 A720</td>\n      <td>- 정형 데이터 분석, 비정형 데이터 분석\\n- 빅 데이터 솔루션 Hadoop 구현</td>\n      <td>- Open Source Hadoop Data Platform 경험자\\n- Micr...</td>\n      <td>- 경력 : 신입 또는 경력 2 년 이상\\n- 대학 졸업 또는 석사 졸업 이상\\n-...</td>\n      <td>회사내규에 따름</td>\n    </tr>\n    <tr>\n      <th>8</th>\n      <td>이씨이십일(주)</td>\n      <td>2020. 11. 21</td>\n      <td>신입, 경력무관</td>\n      <td>데이터분석</td>\n      <td>서울특별시 강남구 삼성동 무역센터 트레이드타워 5F, 8F, 11F</td>\n      <td>- 해외시장정보수집\\n- 트렌드 분석\\n- 보고서 작성</td>\n      <td>- 보훈 및 장애 대상자는 관계법령에 의거하여 우대합니다.\\n- 어문계열 전공자 및...</td>\n      <td>- 신입/경력</td>\n      <td>회사내규에 따름</td>\n    </tr>\n    <tr>\n      <th>9</th>\n      <td>(주)피플펀드컴퍼니</td>\n      <td>2021. 03. 04</td>\n      <td>신입, 경력무관</td>\n      <td>데이터분석</td>\n      <td>서울특별시 강남구 테헤란로 518 12층 (대치동)</td>\n      <td>피플펀드의 데이터 분석가는 데이터를 가공하여 비즈니스 활용 가능한 모델을 개발하고,...</td>\n      <td>• 석사학위 이상 보유자\\n• 빅데이터 기반 모델링 경험 보유자\\n• 머신러닝, 딥...</td>\n      <td>• 신입 혹은 관련분야 경력 2~3년 미만\\n• 상경계열 / 통계 / 수학 / 산업...</td>\n      <td>회사내규에 따름</td>\n    </tr>\n    <tr>\n      <th>10</th>\n      <td>(주)쿡앱스</td>\n      <td>상시채용</td>\n      <td>2년 이상</td>\n      <td>데이터분석</td>\n      <td>경기도 성남시 분당구 대왕판교로 660 유스페이스 1B동 8층</td>\n      <td>- 게임 로그를 기반으로 한 데이터 분석 및 지표설계\\n- 내부 지표 분석을 통한 ...</td>\n      <td>- R,Python,Scala,SQL등의 툴을 이용한 데이터 분석 업무경험이 있으신...</td>\n      <td>- 게임 데이터 분석 경력 2년 이상\\n- 통계에 대한 기반 지식을 가지고 계신 분...</td>\n      <td>회사내규에 따름</td>\n    </tr>\n    <tr>\n      <th>11</th>\n      <td>현대자동차(주)</td>\n      <td>2020. 10. 04</td>\n      <td>3년 이상</td>\n      <td>데이터분석</td>\n      <td>서울 서초구 헌릉로 12</td>\n      <td>· 모빌리티 관련 기술 및 서비스 개발\\n- 현대자동차에서는 자동차를 넘어 우리 일...</td>\n      <td>- 실서비스에서 데이터 분석을 통해 사용자 문제를 해결해본 경험 보유자\\n- Ten...</td>\n      <td>- 학사 이상의 학위 취득자\\n- 데이터마이닝 또는 머신러닝을 활용한 데이터 분석 ...</td>\n      <td>회사내규에 따름</td>\n    </tr>\n    <tr>\n      <th>12</th>\n      <td>(주)디다이브</td>\n      <td>2020. 10. 05</td>\n      <td>경력무관</td>\n      <td>데이터분석</td>\n      <td>서울 강남구 테헤란로20길 16, 금정빌딩 7층</td>\n      <td>- 광고 퍼포먼스 최적화를 위한 지표 분석 및 발굴\\n- 광고 클릭스트림 분석, A...</td>\n      <td>- 디지털 퍼포먼스 마케팅 분야 경험\\n- 다층적 비정형 데이터를 정제하고 분석을 ...</td>\n      <td>- Data Mining 수행 및 분석 리포트 작성 경험\\n- OLAP및 BI를 활...</td>\n      <td>회사내규에 따름</td>\n    </tr>\n    <tr>\n      <th>13</th>\n      <td>(주)버킷플레이스</td>\n      <td>2020. 10. 07</td>\n      <td>3년 이상</td>\n      <td>데이터분석</td>\n      <td>서울 서초구 서초대로 398, 플래티넘타워 19층</td>\n      <td>- 데이터 분석을 위한 데이터 스키마(데이터 레이크, 데이터 마트) 설계 및 개발\\...</td>\n      <td>- 데이터 레이크에 대한 전반적인 이해\\n- 데이터 마트 설계 및 개발 경험\\n- ...</td>\n      <td>- 3년 이상의 유관 경력\\n- 데이터 엔지니어링에 대한 기본적인 이해\\n- 스칼라...</td>\n      <td>회사내규에 따름</td>\n    </tr>\n    <tr>\n      <th>14</th>\n      <td>펜타클</td>\n      <td>2020. 09. 30</td>\n      <td>1년 이상</td>\n      <td>데이터분석</td>\n      <td>서울 강남구 역삼동 735-22 GALA빌딩 8,9,13층</td>\n      <td>- 클라우드 환경에서 데이터 마케팅 플랫폼 구축 \\n- 클라우드 환경에서 데이터 분...</td>\n      <td>- Google BigQuery, Dataflow(Beam) 사용 경험 \\n- Da...</td>\n      <td>- 1년 이상의 데이터 관련 경력 \\n- Java, Python 등 데이터 관련 개...</td>\n      <td>회사내규에 따름</td>\n    </tr>\n    <tr>\n      <th>15</th>\n      <td>리서치애드(주)</td>\n      <td>2020. 10. 05</td>\n      <td>신입, 경력무관</td>\n      <td>데이터분석</td>\n      <td>서울 강남구 학동로34길 16, 2층 (논현동,티플러스빌딩)</td>\n      <td>- 실시간 수집된 광고 분류 및 모니터링 업무</td>\n      <td>NaN</td>\n      <td>- 신입/경력</td>\n      <td>회사내규에 따름</td>\n    </tr>\n    <tr>\n      <th>16</th>\n      <td>엔카닷컴(주)</td>\n      <td>2020. 10. 04</td>\n      <td>2년 이상</td>\n      <td>웹개발, DBA(Database Admin.), 데이터분석</td>\n      <td>서울특별시 중구 통일로2길 16 (AIA타워) 18~19층</td>\n      <td>- 클라우드 환경에서의 데이터 분석/모델링 환경 구축 및 운영\\n- 데이터 레이크 ...</td>\n      <td>- Datastage 개발 유경험자/리눅스 환경 유경험자\\n-  클라우드(AWS, ...</td>\n      <td>- 클라우드 분석 플랫폼 환경에 대한 이해와 경험\\n- SQL을 사용한 데이터 핸들...</td>\n      <td>회사내규에 따름</td>\n    </tr>\n    <tr>\n      <th>17</th>\n      <td>(주)매스프레소</td>\n      <td>2020. 11. 30</td>\n      <td>1년 이상</td>\n      <td>데이터분석</td>\n      <td>서울시 강남구 테헤란로 132 12층</td>\n      <td>- 서비스 지표 상승 및 문제 해결을 위한 데이터 기반의 인사이트 제공\\n- 데이터...</td>\n      <td>- Growth팀(Growth Hacking) 또는 Lean Startup에 대한 ...</td>\n      <td>- 단순한 아이디어 차원이 아닌 실질적인 action을 위한 구체적인 인사이트를 제...</td>\n      <td>회사내규에 따름</td>\n    </tr>\n    <tr>\n      <th>18</th>\n      <td>버즈빌(주)</td>\n      <td>2021. 01. 29</td>\n      <td>신입, 1년 이상</td>\n      <td>데이터분석, 소프트웨어엔지니어</td>\n      <td>서울특별시 송파구 석촌호수로 272 대림빌딩 2, 3, 4, 5층</td>\n      <td>버즈빌은 글로벌 애드 테크(Ad-tech) 기업입니다. 전 세계의 복잡한 디지털 광...</td>\n      <td>NaN</td>\n      <td>Who You Are\\n1. 탄탄한 기본기: 버즈빌은 성장을 매우 중요하게 여기며,...</td>\n      <td>면접 후 결정</td>\n    </tr>\n    <tr>\n      <th>19</th>\n      <td>신한금융투자(주)</td>\n      <td>2020. 12. 31</td>\n      <td>1년 이상</td>\n      <td>데이터분석</td>\n      <td>서울 영등포구 여의대로 70 (여의도동,신한금융투자타워)</td>\n      <td>- 디지털 컨텐츠 기획/개발/운영\\n- 데이터 모델러</td>\n      <td>- 머신러닝/AI 알고리즘 이해 및 활용능력 보유\\n- 빅데이터 분석 경험\\n- 클...</td>\n      <td>- 정규직/계약직\\n- 국내/해외 4년제 대학교 이상 졸업자(석사/박사 우대)\\n-...</td>\n      <td>회사내규에 따름</td>\n    </tr>\n    <tr>\n      <th>20</th>\n      <td>(주)지에스리테일</td>\n      <td>2020. 11. 11</td>\n      <td>경력무관</td>\n      <td>데이터분석</td>\n      <td>서울 강남구 논현로 508 (역삼동,GS타워)</td>\n      <td>· 빅데이터 분석을 통한 이슈, 인사이트 발굴</td>\n      <td>NaN</td>\n      <td>· 학사\\n  - 국내/해외대학 학사 학위 소지자 중 관련 경력 보유자\\n· 석사\\...</td>\n      <td>회사내규에 따름</td>\n    </tr>\n    <tr>\n      <th>21</th>\n      <td>에이스톰(유)</td>\n      <td>2020. 11. 20</td>\n      <td>신입, 경력무관</td>\n      <td>데이터분석</td>\n      <td>NaN</td>\n      <td>- 게임의 상태를 숫자로 표현하는 일\\n- 게임 통계 설계 및 운영</td>\n      <td>NaN</td>\n      <td>- 숫자를 좋아하는 사람\\n- 게임을 좋아하는 사람\\n- 대한민국 하루 게임 동접이...</td>\n      <td>회사내규에 따름</td>\n    </tr>\n    <tr>\n      <th>22</th>\n      <td>(주)매스프레소</td>\n      <td>2020. 11. 30</td>\n      <td>1년 이상</td>\n      <td>데이터분석</td>\n      <td>서울시 강남구 테헤란로 132 12층</td>\n      <td>- 빠르게 늘어나고 있는 매스프레소의 데이터 규모에 맞추어 확장가능한 데이터 인프라...</td>\n      <td>- 다양한 상황에서 최적의 솔루션을 찾을 수 있는 문제해결능력 및 원활한 커뮤니케이...</td>\n      <td>- 대용량 데이터 처리 시스템 구축과 관련된 경력 1년 이상\\n- 파이프라인 및 분...</td>\n      <td>회사내규에 따름</td>\n    </tr>\n    <tr>\n      <th>23</th>\n      <td>잡플래닛 매칭서비스</td>\n      <td>2020. 10. 07</td>\n      <td>4년 이상</td>\n      <td>데이터분석</td>\n      <td>서울특별시 강남구 테헤란로 415 스파크플러스 3층 307호 (L7 Hotel 강남타워)</td>\n      <td>•신용평가 모형개발: 신용평가모형 등 리스크관리를 위한 모형개발\\n•운영중인 모형 ...</td>\n      <td>NaN</td>\n      <td>- 대졸\\n- 관련 업무 경험 최소 3년 이상\\n- 금융관련 데이터 분석 및 모델링...</td>\n      <td>면접 후 결정</td>\n    </tr>\n    <tr>\n      <th>24</th>\n      <td>(주)플래티어</td>\n      <td>상시채용</td>\n      <td>신입, 경력무관</td>\n      <td>데이터분석</td>\n      <td>서울특별시 송파구 법원로9길 26 D동 6층(문정동, 에이치비지니스파크)</td>\n      <td>- ML 서비스를 위한 데이터 파이프라인 시스템 설계 개발 및 운영 관리\\n- 대용...</td>\n      <td>- 데이터를 활용한 End To End 프로젝트를 수행한 경험\\n- Hadoop, ...</td>\n      <td>- Python, Scala 등 파이프라인 구축 업무를 수행할 수 있는 하나 이상의...</td>\n      <td>회사내규에 따름</td>\n    </tr>\n    <tr>\n      <th>25</th>\n      <td>(주)마켓디자이너스</td>\n      <td>상시채용</td>\n      <td>5년 이상</td>\n      <td>데이터분석, 시장조사/분석, 전략마케팅</td>\n      <td>서울 강남구 테헤란로20길 9 동궁빌딩 13층</td>\n      <td>• 위매치 부문 비즈니스 데이터 분석 업무 \\n• 비즈니스 데이터 분석 시뮬레이션 ...</td>\n      <td>• 온라인 마케팅 관련 데이터 분석 경험하신 분, Pricing 데이터 분석 경험하...</td>\n      <td>•  데이터 분석 업무 유경험자 (3년이상)\\n•  온라인 고객대상 기업의 데이터 ...</td>\n      <td>면접 후 결정</td>\n    </tr>\n    <tr>\n      <th>26</th>\n      <td>(주)한국신용데이터</td>\n      <td>2020. 09. 29</td>\n      <td>신입, 3년 이상</td>\n      <td>데이터분석</td>\n      <td>서울특별시 강남구 영동대로 607 랜드마크빌딩 6층</td>\n      <td>- 서비스 제공을 위한 다양한 금융 데이터 수집 백엔드/인프라 개발 및 운영\\n- ...</td>\n      <td>- 중소사업자 금융거래 데이터 수집 및 전처리 과정 개발 및 운영\\n- 외부 데이터...</td>\n      <td>- Python 3+ 백엔드 개발 경력 3년차 이상\\n- 대용량 데이터 인프라 구축...</td>\n      <td>회사내규에 따름</td>\n    </tr>\n  </tbody>\n</table>\n</div>"
     },
     "metadata": {},
     "execution_count": 8
    }
   ],
   "source": [
    "df"
   ]
  },
  {
   "cell_type": "code",
   "execution_count": null,
   "metadata": {},
   "outputs": [],
   "source": []
  }
 ]
}